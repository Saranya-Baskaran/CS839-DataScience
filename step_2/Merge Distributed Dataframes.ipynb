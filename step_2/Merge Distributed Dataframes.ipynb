{
 "cells": [
  {
   "cell_type": "code",
   "execution_count": 63,
   "metadata": {},
   "outputs": [],
   "source": [
    "import pandas as pd\n",
    "import numpy as np\n",
    "import matplotlib.pyplot as plt\n",
    "%matplotlib inline"
   ]
  },
  {
   "cell_type": "code",
   "execution_count": 64,
   "metadata": {},
   "outputs": [],
   "source": [
    "df = pd.read_csv('amazonCleaned.csv')"
   ]
  },
  {
   "cell_type": "code",
   "execution_count": 65,
   "metadata": {},
   "outputs": [
    {
     "data": {
      "text/html": [
       "<div>\n",
       "<style scoped>\n",
       "    .dataframe tbody tr th:only-of-type {\n",
       "        vertical-align: middle;\n",
       "    }\n",
       "\n",
       "    .dataframe tbody tr th {\n",
       "        vertical-align: top;\n",
       "    }\n",
       "\n",
       "    .dataframe thead th {\n",
       "        text-align: right;\n",
       "    }\n",
       "</style>\n",
       "<table border=\"1\" class=\"dataframe\">\n",
       "  <thead>\n",
       "    <tr style=\"text-align: right;\">\n",
       "      <th></th>\n",
       "      <th>ID</th>\n",
       "      <th>Name</th>\n",
       "      <th>Author</th>\n",
       "      <th>Rating</th>\n",
       "      <th>Format</th>\n",
       "      <th>Publisher</th>\n",
       "      <th>Pages</th>\n",
       "      <th>Publishing Date</th>\n",
       "      <th>ISBN-10</th>\n",
       "      <th>ISBN-13</th>\n",
       "    </tr>\n",
       "  </thead>\n",
       "  <tbody>\n",
       "    <tr>\n",
       "      <th>0</th>\n",
       "      <td>1101965355</td>\n",
       "      <td>Age of Myth: Book One of The Legends of the Fi...</td>\n",
       "      <td>Michael J. Sullivan</td>\n",
       "      <td>4.5 out of 5 stars</td>\n",
       "      <td>Paperback</td>\n",
       "      <td>Del Rey</td>\n",
       "      <td>464 pages</td>\n",
       "      <td>January 31, 2017</td>\n",
       "      <td>1101965355</td>\n",
       "      <td>978-1101965351</td>\n",
       "    </tr>\n",
       "    <tr>\n",
       "      <th>1</th>\n",
       "      <td>1632911574</td>\n",
       "      <td>Rise of the Dragons (Kings and Sorcerers--Book 1)</td>\n",
       "      <td>Morgan Rice</td>\n",
       "      <td>4.1 out of 5 stars</td>\n",
       "      <td>Hardcover</td>\n",
       "      <td>Morgan Rice</td>\n",
       "      <td>217 pages</td>\n",
       "      <td>August 4, 2017</td>\n",
       "      <td>1632911574</td>\n",
       "      <td>978-1632911575</td>\n",
       "    </tr>\n",
       "    <tr>\n",
       "      <th>2</th>\n",
       "      <td>1470008955</td>\n",
       "      <td>The Book of Deacon (Volume 1)</td>\n",
       "      <td>Joseph Lallo</td>\n",
       "      <td>4.3 out of 5 stars</td>\n",
       "      <td>Kindle</td>\n",
       "      <td>CreateSpace Independent Publishing Platform</td>\n",
       "      <td>322 pages</td>\n",
       "      <td>March 18, 2012</td>\n",
       "      <td>1470008955</td>\n",
       "      <td>978-1470008956</td>\n",
       "    </tr>\n",
       "    <tr>\n",
       "      <th>3</th>\n",
       "      <td>1939416205</td>\n",
       "      <td>A Quest of Heroes: Book #1 in the Sorcerer's Ring</td>\n",
       "      <td>Morgan Rice</td>\n",
       "      <td>3.6 out of 5 stars</td>\n",
       "      <td>Hardcover</td>\n",
       "      <td>Morgan Rice</td>\n",
       "      <td>234 pages</td>\n",
       "      <td>December 3, 2012</td>\n",
       "      <td>1939416205</td>\n",
       "      <td>978-1939416209</td>\n",
       "    </tr>\n",
       "    <tr>\n",
       "      <th>4</th>\n",
       "      <td>0435086219</td>\n",
       "      <td>Fantasia: An Algerian Cavalcade</td>\n",
       "      <td>Dorothy S. Blair</td>\n",
       "      <td>4.2 out of 5 stars</td>\n",
       "      <td>Kindle</td>\n",
       "      <td>Heinemann; 1 edition</td>\n",
       "      <td>227 pages</td>\n",
       "      <td>March 15, 1993</td>\n",
       "      <td>0435086219</td>\n",
       "      <td>978-0435086213</td>\n",
       "    </tr>\n",
       "  </tbody>\n",
       "</table>\n",
       "</div>"
      ],
      "text/plain": [
       "           ID                                               Name  \\\n",
       "0  1101965355  Age of Myth: Book One of The Legends of the Fi...   \n",
       "1  1632911574  Rise of the Dragons (Kings and Sorcerers--Book 1)   \n",
       "2  1470008955                      The Book of Deacon (Volume 1)   \n",
       "3  1939416205  A Quest of Heroes: Book #1 in the Sorcerer's Ring   \n",
       "4  0435086219                    Fantasia: An Algerian Cavalcade   \n",
       "\n",
       "                Author              Rating     Format  \\\n",
       "0  Michael J. Sullivan  4.5 out of 5 stars  Paperback   \n",
       "1          Morgan Rice  4.1 out of 5 stars  Hardcover   \n",
       "2         Joseph Lallo  4.3 out of 5 stars     Kindle   \n",
       "3          Morgan Rice  3.6 out of 5 stars  Hardcover   \n",
       "4     Dorothy S. Blair  4.2 out of 5 stars     Kindle   \n",
       "\n",
       "                                     Publisher      Pages   Publishing Date  \\\n",
       "0                                      Del Rey  464 pages  January 31, 2017   \n",
       "1                                  Morgan Rice  217 pages    August 4, 2017   \n",
       "2  CreateSpace Independent Publishing Platform  322 pages    March 18, 2012   \n",
       "3                                  Morgan Rice  234 pages  December 3, 2012   \n",
       "4                         Heinemann; 1 edition  227 pages    March 15, 1993   \n",
       "\n",
       "      ISBN-10         ISBN-13  \n",
       "0  1101965355  978-1101965351  \n",
       "1  1632911574  978-1632911575  \n",
       "2  1470008955  978-1470008956  \n",
       "3  1939416205  978-1939416209  \n",
       "4  0435086219  978-0435086213  "
      ]
     },
     "execution_count": 65,
     "metadata": {},
     "output_type": "execute_result"
    }
   ],
   "source": [
    "df.head()"
   ]
  },
  {
   "cell_type": "code",
   "execution_count": 66,
   "metadata": {
    "scrolled": true
   },
   "outputs": [
    {
     "data": {
      "text/plain": [
       "3161"
      ]
     },
     "execution_count": 66,
     "metadata": {},
     "output_type": "execute_result"
    }
   ],
   "source": [
    "len(df)"
   ]
  },
  {
   "cell_type": "code",
   "execution_count": 67,
   "metadata": {},
   "outputs": [],
   "source": [
    "df = df.drop_duplicates(\"ID\")"
   ]
  },
  {
   "cell_type": "code",
   "execution_count": 68,
   "metadata": {},
   "outputs": [
    {
     "data": {
      "text/plain": [
       "3161"
      ]
     },
     "execution_count": 68,
     "metadata": {},
     "output_type": "execute_result"
    }
   ],
   "source": [
    "len(df)"
   ]
  },
  {
   "cell_type": "code",
   "execution_count": 69,
   "metadata": {},
   "outputs": [],
   "source": [
    "df1 = pd.read_csv('amazonCleaned1.csv')"
   ]
  },
  {
   "cell_type": "code",
   "execution_count": 70,
   "metadata": {},
   "outputs": [
    {
     "data": {
      "text/html": [
       "<div>\n",
       "<style scoped>\n",
       "    .dataframe tbody tr th:only-of-type {\n",
       "        vertical-align: middle;\n",
       "    }\n",
       "\n",
       "    .dataframe tbody tr th {\n",
       "        vertical-align: top;\n",
       "    }\n",
       "\n",
       "    .dataframe thead th {\n",
       "        text-align: right;\n",
       "    }\n",
       "</style>\n",
       "<table border=\"1\" class=\"dataframe\">\n",
       "  <thead>\n",
       "    <tr style=\"text-align: right;\">\n",
       "      <th></th>\n",
       "      <th>ID</th>\n",
       "      <th>Name</th>\n",
       "      <th>Author</th>\n",
       "      <th>Rating</th>\n",
       "      <th>Format</th>\n",
       "      <th>Publisher</th>\n",
       "      <th>Pages</th>\n",
       "      <th>Publishing Date</th>\n",
       "      <th>ISBN-10</th>\n",
       "      <th>ISBN-13</th>\n",
       "    </tr>\n",
       "  </thead>\n",
       "  <tbody>\n",
       "    <tr>\n",
       "      <th>0</th>\n",
       "      <td>1101965355</td>\n",
       "      <td>Age of Myth: Book One of The Legends of the Fi...</td>\n",
       "      <td>Michael J. Sullivan</td>\n",
       "      <td>4.5 out of 5 stars</td>\n",
       "      <td>Paperback</td>\n",
       "      <td>Del Rey</td>\n",
       "      <td>464 pages</td>\n",
       "      <td>January 31, 2017</td>\n",
       "      <td>1101965355</td>\n",
       "      <td>978-1101965351</td>\n",
       "    </tr>\n",
       "    <tr>\n",
       "      <th>1</th>\n",
       "      <td>1632911574</td>\n",
       "      <td>Rise of the Dragons (Kings and Sorcerers--Book 1)</td>\n",
       "      <td>Morgan Rice</td>\n",
       "      <td>4.1 out of 5 stars</td>\n",
       "      <td>Hardcover</td>\n",
       "      <td>Morgan Rice</td>\n",
       "      <td>217 pages</td>\n",
       "      <td>August 4, 2017</td>\n",
       "      <td>1632911574</td>\n",
       "      <td>978-1632911575</td>\n",
       "    </tr>\n",
       "    <tr>\n",
       "      <th>2</th>\n",
       "      <td>1470008955</td>\n",
       "      <td>The Book of Deacon (Volume 1)</td>\n",
       "      <td>Joseph Lallo</td>\n",
       "      <td>4.3 out of 5 stars</td>\n",
       "      <td>Kindle</td>\n",
       "      <td>CreateSpace Independent Publishing Platform</td>\n",
       "      <td>322 pages</td>\n",
       "      <td>March 18, 2012</td>\n",
       "      <td>1470008955</td>\n",
       "      <td>978-1470008956</td>\n",
       "    </tr>\n",
       "    <tr>\n",
       "      <th>3</th>\n",
       "      <td>1939416205</td>\n",
       "      <td>A Quest of Heroes: Book #1 in the Sorcerer's Ring</td>\n",
       "      <td>Morgan Rice</td>\n",
       "      <td>3.6 out of 5 stars</td>\n",
       "      <td>Hardcover</td>\n",
       "      <td>Morgan Rice</td>\n",
       "      <td>234 pages</td>\n",
       "      <td>December 3, 2012</td>\n",
       "      <td>1939416205</td>\n",
       "      <td>978-1939416209</td>\n",
       "    </tr>\n",
       "    <tr>\n",
       "      <th>4</th>\n",
       "      <td>0435086219</td>\n",
       "      <td>Fantasia: An Algerian Cavalcade</td>\n",
       "      <td>Dorothy S. Blair</td>\n",
       "      <td>4.2 out of 5 stars</td>\n",
       "      <td>Kindle</td>\n",
       "      <td>Heinemann; 1 edition</td>\n",
       "      <td>227 pages</td>\n",
       "      <td>March 15, 1993</td>\n",
       "      <td>0435086219</td>\n",
       "      <td>978-0435086213</td>\n",
       "    </tr>\n",
       "  </tbody>\n",
       "</table>\n",
       "</div>"
      ],
      "text/plain": [
       "           ID                                               Name  \\\n",
       "0  1101965355  Age of Myth: Book One of The Legends of the Fi...   \n",
       "1  1632911574  Rise of the Dragons (Kings and Sorcerers--Book 1)   \n",
       "2  1470008955                      The Book of Deacon (Volume 1)   \n",
       "3  1939416205  A Quest of Heroes: Book #1 in the Sorcerer's Ring   \n",
       "4  0435086219                    Fantasia: An Algerian Cavalcade   \n",
       "\n",
       "                Author              Rating     Format  \\\n",
       "0  Michael J. Sullivan  4.5 out of 5 stars  Paperback   \n",
       "1          Morgan Rice  4.1 out of 5 stars  Hardcover   \n",
       "2         Joseph Lallo  4.3 out of 5 stars     Kindle   \n",
       "3          Morgan Rice  3.6 out of 5 stars  Hardcover   \n",
       "4     Dorothy S. Blair  4.2 out of 5 stars     Kindle   \n",
       "\n",
       "                                     Publisher      Pages   Publishing Date  \\\n",
       "0                                      Del Rey  464 pages  January 31, 2017   \n",
       "1                                  Morgan Rice  217 pages    August 4, 2017   \n",
       "2  CreateSpace Independent Publishing Platform  322 pages    March 18, 2012   \n",
       "3                                  Morgan Rice  234 pages  December 3, 2012   \n",
       "4                         Heinemann; 1 edition  227 pages    March 15, 1993   \n",
       "\n",
       "      ISBN-10         ISBN-13  \n",
       "0  1101965355  978-1101965351  \n",
       "1  1632911574  978-1632911575  \n",
       "2  1470008955  978-1470008956  \n",
       "3  1939416205  978-1939416209  \n",
       "4  0435086219  978-0435086213  "
      ]
     },
     "execution_count": 70,
     "metadata": {},
     "output_type": "execute_result"
    }
   ],
   "source": [
    "df1.head()"
   ]
  },
  {
   "cell_type": "code",
   "execution_count": 71,
   "metadata": {},
   "outputs": [
    {
     "data": {
      "text/plain": [
       "3163"
      ]
     },
     "execution_count": 71,
     "metadata": {},
     "output_type": "execute_result"
    }
   ],
   "source": [
    "len(df1)"
   ]
  },
  {
   "cell_type": "code",
   "execution_count": 72,
   "metadata": {},
   "outputs": [],
   "source": [
    "df1 = df1[['ID','Name','Author','Rating','Format','Publisher','Pages','Publishing Date', 'ISBN-10', 'ISBN-13']]"
   ]
  },
  {
   "cell_type": "code",
   "execution_count": 73,
   "metadata": {},
   "outputs": [
    {
     "data": {
      "text/html": [
       "<div>\n",
       "<style scoped>\n",
       "    .dataframe tbody tr th:only-of-type {\n",
       "        vertical-align: middle;\n",
       "    }\n",
       "\n",
       "    .dataframe tbody tr th {\n",
       "        vertical-align: top;\n",
       "    }\n",
       "\n",
       "    .dataframe thead th {\n",
       "        text-align: right;\n",
       "    }\n",
       "</style>\n",
       "<table border=\"1\" class=\"dataframe\">\n",
       "  <thead>\n",
       "    <tr style=\"text-align: right;\">\n",
       "      <th></th>\n",
       "      <th>ID</th>\n",
       "      <th>Name</th>\n",
       "      <th>Author</th>\n",
       "      <th>Rating</th>\n",
       "      <th>Format</th>\n",
       "      <th>Publisher</th>\n",
       "      <th>Pages</th>\n",
       "      <th>Publishing Date</th>\n",
       "      <th>ISBN-10</th>\n",
       "      <th>ISBN-13</th>\n",
       "    </tr>\n",
       "  </thead>\n",
       "  <tbody>\n",
       "    <tr>\n",
       "      <th>0</th>\n",
       "      <td>1101965355</td>\n",
       "      <td>Age of Myth: Book One of The Legends of the Fi...</td>\n",
       "      <td>Michael J. Sullivan</td>\n",
       "      <td>4.5 out of 5 stars</td>\n",
       "      <td>Paperback</td>\n",
       "      <td>Del Rey</td>\n",
       "      <td>464 pages</td>\n",
       "      <td>January 31, 2017</td>\n",
       "      <td>1101965355</td>\n",
       "      <td>978-1101965351</td>\n",
       "    </tr>\n",
       "    <tr>\n",
       "      <th>1</th>\n",
       "      <td>1632911574</td>\n",
       "      <td>Rise of the Dragons (Kings and Sorcerers--Book 1)</td>\n",
       "      <td>Morgan Rice</td>\n",
       "      <td>4.1 out of 5 stars</td>\n",
       "      <td>Hardcover</td>\n",
       "      <td>Morgan Rice</td>\n",
       "      <td>217 pages</td>\n",
       "      <td>August 4, 2017</td>\n",
       "      <td>1632911574</td>\n",
       "      <td>978-1632911575</td>\n",
       "    </tr>\n",
       "    <tr>\n",
       "      <th>2</th>\n",
       "      <td>1470008955</td>\n",
       "      <td>The Book of Deacon (Volume 1)</td>\n",
       "      <td>Joseph Lallo</td>\n",
       "      <td>4.3 out of 5 stars</td>\n",
       "      <td>Kindle</td>\n",
       "      <td>CreateSpace Independent Publishing Platform</td>\n",
       "      <td>322 pages</td>\n",
       "      <td>March 18, 2012</td>\n",
       "      <td>1470008955</td>\n",
       "      <td>978-1470008956</td>\n",
       "    </tr>\n",
       "    <tr>\n",
       "      <th>3</th>\n",
       "      <td>1939416205</td>\n",
       "      <td>A Quest of Heroes: Book #1 in the Sorcerer's Ring</td>\n",
       "      <td>Morgan Rice</td>\n",
       "      <td>3.6 out of 5 stars</td>\n",
       "      <td>Hardcover</td>\n",
       "      <td>Morgan Rice</td>\n",
       "      <td>234 pages</td>\n",
       "      <td>December 3, 2012</td>\n",
       "      <td>1939416205</td>\n",
       "      <td>978-1939416209</td>\n",
       "    </tr>\n",
       "    <tr>\n",
       "      <th>4</th>\n",
       "      <td>0435086219</td>\n",
       "      <td>Fantasia: An Algerian Cavalcade</td>\n",
       "      <td>Dorothy S. Blair</td>\n",
       "      <td>4.2 out of 5 stars</td>\n",
       "      <td>Kindle</td>\n",
       "      <td>Heinemann; 1 edition</td>\n",
       "      <td>227 pages</td>\n",
       "      <td>March 15, 1993</td>\n",
       "      <td>0435086219</td>\n",
       "      <td>978-0435086213</td>\n",
       "    </tr>\n",
       "  </tbody>\n",
       "</table>\n",
       "</div>"
      ],
      "text/plain": [
       "           ID                                               Name  \\\n",
       "0  1101965355  Age of Myth: Book One of The Legends of the Fi...   \n",
       "1  1632911574  Rise of the Dragons (Kings and Sorcerers--Book 1)   \n",
       "2  1470008955                      The Book of Deacon (Volume 1)   \n",
       "3  1939416205  A Quest of Heroes: Book #1 in the Sorcerer's Ring   \n",
       "4  0435086219                    Fantasia: An Algerian Cavalcade   \n",
       "\n",
       "                Author              Rating     Format  \\\n",
       "0  Michael J. Sullivan  4.5 out of 5 stars  Paperback   \n",
       "1          Morgan Rice  4.1 out of 5 stars  Hardcover   \n",
       "2         Joseph Lallo  4.3 out of 5 stars     Kindle   \n",
       "3          Morgan Rice  3.6 out of 5 stars  Hardcover   \n",
       "4     Dorothy S. Blair  4.2 out of 5 stars     Kindle   \n",
       "\n",
       "                                     Publisher      Pages   Publishing Date  \\\n",
       "0                                      Del Rey  464 pages  January 31, 2017   \n",
       "1                                  Morgan Rice  217 pages    August 4, 2017   \n",
       "2  CreateSpace Independent Publishing Platform  322 pages    March 18, 2012   \n",
       "3                                  Morgan Rice  234 pages  December 3, 2012   \n",
       "4                         Heinemann; 1 edition  227 pages    March 15, 1993   \n",
       "\n",
       "      ISBN-10         ISBN-13  \n",
       "0  1101965355  978-1101965351  \n",
       "1  1632911574  978-1632911575  \n",
       "2  1470008955  978-1470008956  \n",
       "3  1939416205  978-1939416209  \n",
       "4  0435086219  978-0435086213  "
      ]
     },
     "execution_count": 73,
     "metadata": {},
     "output_type": "execute_result"
    }
   ],
   "source": [
    "df1.head()"
   ]
  },
  {
   "cell_type": "code",
   "execution_count": 74,
   "metadata": {},
   "outputs": [],
   "source": [
    "finalDf = df.append(df1, ignore_index=True)"
   ]
  },
  {
   "cell_type": "code",
   "execution_count": 75,
   "metadata": {},
   "outputs": [
    {
     "data": {
      "text/plain": [
       "6324"
      ]
     },
     "execution_count": 75,
     "metadata": {},
     "output_type": "execute_result"
    }
   ],
   "source": [
    "len(finalDf)"
   ]
  },
  {
   "cell_type": "code",
   "execution_count": 76,
   "metadata": {},
   "outputs": [],
   "source": [
    "finalDf = finalDf.drop_duplicates(\"ID\")"
   ]
  },
  {
   "cell_type": "code",
   "execution_count": 77,
   "metadata": {},
   "outputs": [
    {
     "data": {
      "text/plain": [
       "3401"
      ]
     },
     "execution_count": 77,
     "metadata": {},
     "output_type": "execute_result"
    }
   ],
   "source": [
    "len(finalDf)"
   ]
  },
  {
   "cell_type": "code",
   "execution_count": 78,
   "metadata": {},
   "outputs": [],
   "source": [
    "finalDf.to_csv(\"amazonCleaned.csv\", encoding='utf-8', index=False)"
   ]
  },
  {
   "cell_type": "code",
   "execution_count": 79,
   "metadata": {},
   "outputs": [],
   "source": [
    "# Maintain list of IDs\n",
    "ids = set(finalDf['ID'].tolist())\n",
    "with open('ids.txt','w') as outputFile:\n",
    "    outputFile.write(\"\\n\".join(str(x) for x in ids))"
   ]
  },
  {
   "cell_type": "code",
   "execution_count": 80,
   "metadata": {},
   "outputs": [
    {
     "data": {
      "text/html": [
       "<div>\n",
       "<style scoped>\n",
       "    .dataframe tbody tr th:only-of-type {\n",
       "        vertical-align: middle;\n",
       "    }\n",
       "\n",
       "    .dataframe tbody tr th {\n",
       "        vertical-align: top;\n",
       "    }\n",
       "\n",
       "    .dataframe thead th {\n",
       "        text-align: right;\n",
       "    }\n",
       "</style>\n",
       "<table border=\"1\" class=\"dataframe\">\n",
       "  <thead>\n",
       "    <tr style=\"text-align: right;\">\n",
       "      <th></th>\n",
       "      <th>ID</th>\n",
       "      <th>Name</th>\n",
       "      <th>Author</th>\n",
       "      <th>Rating</th>\n",
       "      <th>Format</th>\n",
       "      <th>Publisher</th>\n",
       "      <th>Pages</th>\n",
       "      <th>Publishing Date</th>\n",
       "      <th>ISBN-10</th>\n",
       "      <th>ISBN-13</th>\n",
       "    </tr>\n",
       "  </thead>\n",
       "  <tbody>\n",
       "    <tr>\n",
       "      <th>0</th>\n",
       "      <td>1101965355</td>\n",
       "      <td>Age of Myth: Book One of The Legends of the Fi...</td>\n",
       "      <td>Michael J. Sullivan</td>\n",
       "      <td>4.5 out of 5 stars</td>\n",
       "      <td>Paperback</td>\n",
       "      <td>Del Rey</td>\n",
       "      <td>464 pages</td>\n",
       "      <td>January 31, 2017</td>\n",
       "      <td>1101965355</td>\n",
       "      <td>978-1101965351</td>\n",
       "    </tr>\n",
       "    <tr>\n",
       "      <th>1</th>\n",
       "      <td>1632911574</td>\n",
       "      <td>Rise of the Dragons (Kings and Sorcerers--Book 1)</td>\n",
       "      <td>Morgan Rice</td>\n",
       "      <td>4.1 out of 5 stars</td>\n",
       "      <td>Hardcover</td>\n",
       "      <td>Morgan Rice</td>\n",
       "      <td>217 pages</td>\n",
       "      <td>August 4, 2017</td>\n",
       "      <td>1632911574</td>\n",
       "      <td>978-1632911575</td>\n",
       "    </tr>\n",
       "    <tr>\n",
       "      <th>2</th>\n",
       "      <td>1470008955</td>\n",
       "      <td>The Book of Deacon (Volume 1)</td>\n",
       "      <td>Joseph Lallo</td>\n",
       "      <td>4.3 out of 5 stars</td>\n",
       "      <td>Kindle</td>\n",
       "      <td>CreateSpace Independent Publishing Platform</td>\n",
       "      <td>322 pages</td>\n",
       "      <td>March 18, 2012</td>\n",
       "      <td>1470008955</td>\n",
       "      <td>978-1470008956</td>\n",
       "    </tr>\n",
       "    <tr>\n",
       "      <th>3</th>\n",
       "      <td>1939416205</td>\n",
       "      <td>A Quest of Heroes: Book #1 in the Sorcerer's Ring</td>\n",
       "      <td>Morgan Rice</td>\n",
       "      <td>3.6 out of 5 stars</td>\n",
       "      <td>Hardcover</td>\n",
       "      <td>Morgan Rice</td>\n",
       "      <td>234 pages</td>\n",
       "      <td>December 3, 2012</td>\n",
       "      <td>1939416205</td>\n",
       "      <td>978-1939416209</td>\n",
       "    </tr>\n",
       "    <tr>\n",
       "      <th>4</th>\n",
       "      <td>0435086219</td>\n",
       "      <td>Fantasia: An Algerian Cavalcade</td>\n",
       "      <td>Dorothy S. Blair</td>\n",
       "      <td>4.2 out of 5 stars</td>\n",
       "      <td>Kindle</td>\n",
       "      <td>Heinemann; 1 edition</td>\n",
       "      <td>227 pages</td>\n",
       "      <td>March 15, 1993</td>\n",
       "      <td>0435086219</td>\n",
       "      <td>978-0435086213</td>\n",
       "    </tr>\n",
       "  </tbody>\n",
       "</table>\n",
       "</div>"
      ],
      "text/plain": [
       "           ID                                               Name  \\\n",
       "0  1101965355  Age of Myth: Book One of The Legends of the Fi...   \n",
       "1  1632911574  Rise of the Dragons (Kings and Sorcerers--Book 1)   \n",
       "2  1470008955                      The Book of Deacon (Volume 1)   \n",
       "3  1939416205  A Quest of Heroes: Book #1 in the Sorcerer's Ring   \n",
       "4  0435086219                    Fantasia: An Algerian Cavalcade   \n",
       "\n",
       "                Author              Rating     Format  \\\n",
       "0  Michael J. Sullivan  4.5 out of 5 stars  Paperback   \n",
       "1          Morgan Rice  4.1 out of 5 stars  Hardcover   \n",
       "2         Joseph Lallo  4.3 out of 5 stars     Kindle   \n",
       "3          Morgan Rice  3.6 out of 5 stars  Hardcover   \n",
       "4     Dorothy S. Blair  4.2 out of 5 stars     Kindle   \n",
       "\n",
       "                                     Publisher      Pages   Publishing Date  \\\n",
       "0                                      Del Rey  464 pages  January 31, 2017   \n",
       "1                                  Morgan Rice  217 pages    August 4, 2017   \n",
       "2  CreateSpace Independent Publishing Platform  322 pages    March 18, 2012   \n",
       "3                                  Morgan Rice  234 pages  December 3, 2012   \n",
       "4                         Heinemann; 1 edition  227 pages    March 15, 1993   \n",
       "\n",
       "      ISBN-10         ISBN-13  \n",
       "0  1101965355  978-1101965351  \n",
       "1  1632911574  978-1632911575  \n",
       "2  1470008955  978-1470008956  \n",
       "3  1939416205  978-1939416209  \n",
       "4  0435086219  978-0435086213  "
      ]
     },
     "execution_count": 80,
     "metadata": {},
     "output_type": "execute_result"
    }
   ],
   "source": [
    "finalDf.head()"
   ]
  },
  {
   "cell_type": "code",
   "execution_count": 81,
   "metadata": {},
   "outputs": [
    {
     "data": {
      "text/plain": [
       "3401"
      ]
     },
     "execution_count": 81,
     "metadata": {},
     "output_type": "execute_result"
    }
   ],
   "source": [
    "len(finalDf)"
   ]
  },
  {
   "cell_type": "code",
   "execution_count": null,
   "metadata": {},
   "outputs": [],
   "source": []
  }
 ],
 "metadata": {
  "kernelspec": {
   "display_name": "Python 3",
   "language": "python",
   "name": "python3"
  },
  "language_info": {
   "codemirror_mode": {
    "name": "ipython",
    "version": 3
   },
   "file_extension": ".py",
   "mimetype": "text/x-python",
   "name": "python",
   "nbconvert_exporter": "python",
   "pygments_lexer": "ipython3",
   "version": "3.5.0"
  },
  "toc": {
   "nav_menu": {},
   "number_sections": true,
   "sideBar": true,
   "skip_h1_title": false,
   "title_cell": "Table of Contents",
   "title_sidebar": "Contents",
   "toc_cell": false,
   "toc_position": {},
   "toc_section_display": true,
   "toc_window_display": false
  }
 },
 "nbformat": 4,
 "nbformat_minor": 2
}
